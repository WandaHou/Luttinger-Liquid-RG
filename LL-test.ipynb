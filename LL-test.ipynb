{
 "cells": [
  {
   "cell_type": "code",
   "execution_count": 1,
   "id": "bd3204b1-2b23-4d49-8f2c-58c2ff238573",
   "metadata": {},
   "outputs": [],
   "source": [
    "%run 'LLrg.py'"
   ]
  },
  {
   "cell_type": "markdown",
   "id": "aef81021-b4e9-4f94-9530-b3e23d2c0768",
   "metadata": {},
   "source": [
    "#### Creat a Luttinger-Liquid model"
   ]
  },
  {
   "cell_type": "code",
   "execution_count": 2,
   "id": "01fa80ce-009f-4679-9855-f428cd94ada8",
   "metadata": {},
   "outputs": [],
   "source": [
    "K_inv = (1/6)*numpy.array([[0,0,0,1,0,0],\n",
    "                           [0,0,0,0,1,0],\n",
    "                           [0,0,0,0,0,1],\n",
    "                           [1,0,0,0,0,0],\n",
    "                           [0,1,0,0,0,0],\n",
    "                           [0,0,1,0,0,0]], dtype = float)\n",
    "vecs = numpy.array([[1,1,-2,-1,1,0],\n",
    "                    [1,1,4,-1,1,0],\n",
    "                    [2,2,2,-2,2,0],\n",
    "                    [0,0,0,6,0,0],\n",
    "                    [0,0,0,0,6,0]], dtype = float)"
   ]
  },
  {
   "cell_type": "code",
   "execution_count": 3,
   "id": "0f3f47fd-118c-46eb-8fe0-f55199504159",
   "metadata": {},
   "outputs": [],
   "source": [
    "mdl = LLModel(K_inv, vecs)"
   ]
  },
  {
   "cell_type": "markdown",
   "id": "a960d5bb-5f24-489a-a2ad-62747d38165e",
   "metadata": {},
   "source": [
    "#### Specify initial conditions of the couplings and the U-matrix"
   ]
  },
  {
   "cell_type": "code",
   "execution_count": 9,
   "id": "c5810397-3266-486a-87fd-470dd40a7000",
   "metadata": {},
   "outputs": [],
   "source": [
    "ka = 0.4\n",
    "kb = 0.4\n",
    "ke = 1.49\n",
    "couplings = numpy.array([1e-6, 0.00365, 0.00365, 0.01, 0.01], dtype = float)\n",
    "U = numpy.array([[6 * ka,0,0,0,0,0],\n",
    "                 [0,6 * kb,0,0,0,0],\n",
    "                 [0,0,6 * ke,0,0,0],\n",
    "                 [0,0,0,6 / ka,0,0],\n",
    "                 [0,0,0,0,6 / kb,0],\n",
    "                 [0,0,0,0,0,6 / ke]], dtype = float)"
   ]
  },
  {
   "cell_type": "code",
   "execution_count": 10,
   "id": "d2c020c6-056e-40d7-ac9e-3cdba810ba17",
   "metadata": {},
   "outputs": [],
   "source": [
    "fl = flow(mdl)"
   ]
  },
  {
   "cell_type": "markdown",
   "id": "bca7f53e-e8f1-49fa-a0cb-7669f4c59b21",
   "metadata": {},
   "source": [
    "#### Plot fig.4.(b) in arXiv:2011.13950"
   ]
  },
  {
   "cell_type": "code",
   "execution_count": 11,
   "id": "657496c8-4406-414a-aad4-a839fb2df425",
   "metadata": {},
   "outputs": [
    {
     "data": {
      "text/plain": [
       "[]"
      ]
     },
     "execution_count": 11,
     "metadata": {},
     "output_type": "execute_result"
    },
    {
     "data": {
      "image/png": "[encoded data removed]",
      "text/plain": [
       "<Figure size 432x288 with 1 Axes>"
      ]
     },
     "metadata": {
      "needs_background": "light"
     },
     "output_type": "display_data"
    }
   ],
   "source": [
    "fl.reset() # reset before changing the default i.c.\n",
    "fl._U = U\n",
    "fl._couplings = couplings\n",
    "fl._t = 6.5 # RG time upper limit\n",
    "fl.ploty()"
   ]
  },
  {
   "cell_type": "markdown",
   "id": "4e1df263-c20b-4b11-a72a-7c8eb5f8c05f",
   "metadata": {},
   "source": [
    "<img src=\"fig.png\" width=400>"
   ]
  },
  {
   "cell_type": "code",
   "execution_count": null,
   "id": "f2d2fbaf-583b-4f34-9dfc-81f618be7979",
   "metadata": {},
   "outputs": [],
   "source": []
  }
 ],
 "metadata": {
  "kernelspec": {
   "display_name": "Python 3 (ipykernel)",
   "language": "python",
   "name": "python3"
  },
  "language_info": {
   "codemirror_mode": {
    "name": "ipython",
    "version": 3
   },
   "file_extension": ".py",
   "mimetype": "text/x-python",
   "name": "python",
   "nbconvert_exporter": "python",
   "pygments_lexer": "ipython3",
   "version": "3.10.4"
  }
 },
 "nbformat": 4,
 "nbformat_minor": 5
}
